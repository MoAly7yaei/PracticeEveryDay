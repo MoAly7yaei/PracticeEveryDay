{
 "cells": [
  {
   "cell_type": "code",
   "execution_count": 2,
   "id": "aba7372d",
   "metadata": {},
   "outputs": [],
   "source": [
    "import numpy as np #import library"
   ]
  },
  {
   "cell_type": "code",
   "execution_count": 3,
   "id": "b7e7a4d3",
   "metadata": {},
   "outputs": [],
   "source": [
    "l1 = [1,2,3,4,5]\n"
   ]
  },
  {
   "cell_type": "code",
   "execution_count": 4,
   "id": "6bbed099",
   "metadata": {},
   "outputs": [
    {
     "data": {
      "text/plain": [
       "[1, 2, 3, 4, 5, 1, 2, 3, 4, 5]"
      ]
     },
     "execution_count": 4,
     "metadata": {},
     "output_type": "execute_result"
    }
   ],
   "source": [
    "l1 *2 #Multiply the list"
   ]
  },
  {
   "cell_type": "code",
   "execution_count": 5,
   "id": "fa93ba2c",
   "metadata": {},
   "outputs": [],
   "source": [
    "l2 = [2,4,6,8,10]\n",
    "l = [l1,l2]"
   ]
  },
  {
   "cell_type": "code",
   "execution_count": 6,
   "id": "95c1d09b",
   "metadata": {},
   "outputs": [
    {
     "data": {
      "text/plain": [
       "[[1, 2, 3, 4, 5], [2, 4, 6, 8, 10]]"
      ]
     },
     "execution_count": 6,
     "metadata": {},
     "output_type": "execute_result"
    }
   ],
   "source": [
    "l"
   ]
  },
  {
   "cell_type": "code",
   "execution_count": 9,
   "id": "8b418b79",
   "metadata": {},
   "outputs": [],
   "source": [
    "x = np.array(l)"
   ]
  },
  {
   "cell_type": "code",
   "execution_count": 10,
   "id": "fe4210c4",
   "metadata": {},
   "outputs": [
    {
     "data": {
      "text/plain": [
       "array([[ 2,  4,  6,  8, 10],\n",
       "       [ 4,  8, 12, 16, 20]])"
      ]
     },
     "execution_count": 10,
     "metadata": {},
     "output_type": "execute_result"
    }
   ],
   "source": [
    "x*2 #Convert 2 lists into matrix allow us to do matrix multiplication"
   ]
  },
  {
   "cell_type": "code",
   "execution_count": 11,
   "id": "e00ae223",
   "metadata": {},
   "outputs": [
    {
     "data": {
      "text/plain": [
       "(2, 5)"
      ]
     },
     "execution_count": 11,
     "metadata": {},
     "output_type": "execute_result"
    }
   ],
   "source": [
    "np.shape(x) #Column and arrays"
   ]
  },
  {
   "cell_type": "code",
   "execution_count": 14,
   "id": "b44e6989",
   "metadata": {},
   "outputs": [
    {
     "data": {
      "text/plain": [
       "dtype('int32')"
      ]
     },
     "execution_count": 14,
     "metadata": {},
     "output_type": "execute_result"
    }
   ],
   "source": [
    "x.dtype"
   ]
  },
  {
   "cell_type": "code",
   "execution_count": 18,
   "id": "514245e4",
   "metadata": {},
   "outputs": [
    {
     "data": {
      "text/plain": [
       "array([[1., 1., 1.],\n",
       "       [1., 1., 1.],\n",
       "       [1., 1., 1.],\n",
       "       [1., 1., 1.],\n",
       "       [1., 1., 1.],\n",
       "       [1., 1., 1.],\n",
       "       [1., 1., 1.],\n",
       "       [1., 1., 1.],\n",
       "       [1., 1., 1.]])"
      ]
     },
     "execution_count": 18,
     "metadata": {},
     "output_type": "execute_result"
    }
   ],
   "source": [
    "np.ones([9,3])"
   ]
  },
  {
   "cell_type": "code",
   "execution_count": 19,
   "id": "bce82548",
   "metadata": {},
   "outputs": [
    {
     "data": {
      "text/plain": [
       "array([[0., 0., 0.],\n",
       "       [0., 0., 0.],\n",
       "       [0., 0., 0.],\n",
       "       [0., 0., 0.],\n",
       "       [0., 0., 0.],\n",
       "       [0., 0., 0.],\n",
       "       [0., 0., 0.],\n",
       "       [0., 0., 0.],\n",
       "       [0., 0., 0.]])"
      ]
     },
     "execution_count": 19,
     "metadata": {},
     "output_type": "execute_result"
    }
   ],
   "source": [
    "np.zeros([9,3])"
   ]
  },
  {
   "cell_type": "code",
   "execution_count": 24,
   "id": "5005bde6",
   "metadata": {},
   "outputs": [],
   "source": [
    "x = np.empty(8) #spicial array"
   ]
  },
  {
   "cell_type": "code",
   "execution_count": 25,
   "id": "7b9ed865",
   "metadata": {},
   "outputs": [],
   "source": [
    "y = np.empty(8)"
   ]
  },
  {
   "cell_type": "code",
   "execution_count": 28,
   "id": "da4e9886",
   "metadata": {},
   "outputs": [],
   "source": [
    "z = np.array([x,y])"
   ]
  },
  {
   "cell_type": "code",
   "execution_count": 33,
   "id": "436bbf1b",
   "metadata": {},
   "outputs": [
    {
     "data": {
      "text/plain": [
       "array([[2.3766352864245774e-11, 2.5888348652049025e-11,\n",
       "        2.4190752021994167e-11, 2.440295160158476e-11,\n",
       "        1.9310161699760242e-11, 9.336781483063372e-12,\n",
       "        1.9734560858496767e-11, 1.2906114208381474e-05],\n",
       "       [2.3766352864245774e-11, 2.5888348652049025e-11,\n",
       "        2.4190752021994167e-11, 2.440295160158476e-11,\n",
       "        1.9310161699760242e-11, 9.336781483063372e-12,\n",
       "        1.9734560858496767e-11, 1.2906114208381474e-05]], dtype=object)"
      ]
     },
     "execution_count": 33,
     "metadata": {},
     "output_type": "execute_result"
    }
   ],
   "source": [
    "z * 10**301"
   ]
  },
  {
   "cell_type": "code",
   "execution_count": 34,
   "id": "6bf0633a",
   "metadata": {},
   "outputs": [],
   "source": [
    "a = np.arange(100)"
   ]
  },
  {
   "cell_type": "code",
   "execution_count": 35,
   "id": "cc670e87",
   "metadata": {},
   "outputs": [],
   "source": [
    "b = np.arange(100)"
   ]
  },
  {
   "cell_type": "code",
   "execution_count": 36,
   "id": "d9507c97",
   "metadata": {},
   "outputs": [
    {
     "data": {
      "text/plain": [
       "array([   0,    1,    4,    9,   16,   25,   36,   49,   64,   81,  100,\n",
       "        121,  144,  169,  196,  225,  256,  289,  324,  361,  400,  441,\n",
       "        484,  529,  576,  625,  676,  729,  784,  841,  900,  961, 1024,\n",
       "       1089, 1156, 1225, 1296, 1369, 1444, 1521, 1600, 1681, 1764, 1849,\n",
       "       1936, 2025, 2116, 2209, 2304, 2401, 2500, 2601, 2704, 2809, 2916,\n",
       "       3025, 3136, 3249, 3364, 3481, 3600, 3721, 3844, 3969, 4096, 4225,\n",
       "       4356, 4489, 4624, 4761, 4900, 5041, 5184, 5329, 5476, 5625, 5776,\n",
       "       5929, 6084, 6241, 6400, 6561, 6724, 6889, 7056, 7225, 7396, 7569,\n",
       "       7744, 7921, 8100, 8281, 8464, 8649, 8836, 9025, 9216, 9409, 9604,\n",
       "       9801])"
      ]
     },
     "execution_count": 36,
     "metadata": {},
     "output_type": "execute_result"
    }
   ],
   "source": [
    "a*b"
   ]
  },
  {
   "cell_type": "code",
   "execution_count": 40,
   "id": "82b988ea",
   "metadata": {},
   "outputs": [
    {
     "data": {
      "text/plain": [
       "array([0.000e+00, 3.000e+00, 8.000e+00, 1.500e+01, 2.400e+01, 3.500e+01,\n",
       "       4.800e+01, 6.300e+01, 8.000e+01, 9.900e+01, 1.200e+02, 1.430e+02,\n",
       "       1.680e+02, 1.950e+02, 2.240e+02, 2.550e+02, 2.880e+02, 3.230e+02,\n",
       "       3.600e+02, 3.990e+02, 4.400e+02, 4.830e+02, 5.280e+02, 5.750e+02,\n",
       "       6.240e+02, 6.750e+02, 7.280e+02, 7.830e+02, 8.400e+02, 8.990e+02,\n",
       "       9.600e+02, 1.023e+03, 1.088e+03, 1.155e+03, 1.224e+03, 1.295e+03,\n",
       "       1.368e+03, 1.443e+03, 1.520e+03, 1.599e+03, 1.680e+03, 1.763e+03,\n",
       "       1.848e+03, 1.935e+03, 2.024e+03, 2.115e+03, 2.208e+03, 2.303e+03,\n",
       "       2.400e+03, 2.499e+03, 2.600e+03, 2.703e+03, 2.808e+03, 2.915e+03,\n",
       "       3.024e+03, 3.135e+03, 3.248e+03, 3.363e+03, 3.480e+03, 3.599e+03,\n",
       "       3.720e+03, 3.843e+03, 3.968e+03, 4.095e+03, 4.224e+03, 4.355e+03,\n",
       "       4.488e+03, 4.623e+03, 4.760e+03, 4.899e+03, 5.040e+03, 5.183e+03,\n",
       "       5.328e+03, 5.475e+03, 5.624e+03, 5.775e+03, 5.928e+03, 6.083e+03,\n",
       "       6.240e+03, 6.399e+03, 6.560e+03, 6.723e+03, 6.888e+03, 7.055e+03,\n",
       "       7.224e+03, 7.395e+03, 7.568e+03, 7.743e+03, 7.920e+03, 8.099e+03,\n",
       "       8.280e+03, 8.463e+03, 8.648e+03, 8.835e+03, 9.024e+03, 9.215e+03,\n",
       "       9.408e+03, 9.603e+03, 9.800e+03, 9.999e+03])"
      ]
     },
     "execution_count": 40,
     "metadata": {},
     "output_type": "execute_result"
    }
   ],
   "source": [
    "a + np.empty(100)"
   ]
  },
  {
   "cell_type": "code",
   "execution_count": 42,
   "id": "8cdd0ce9",
   "metadata": {},
   "outputs": [
    {
     "data": {
      "text/plain": [
       "array([1., 5., 9.])"
      ]
     },
     "execution_count": 42,
     "metadata": {},
     "output_type": "execute_result"
    }
   ],
   "source": [
    "np.linspace(1,9,3)"
   ]
  },
  {
   "cell_type": "code",
   "execution_count": 43,
   "id": "a534a0ad",
   "metadata": {},
   "outputs": [
    {
     "data": {
      "text/plain": [
       "array([0, 1, 2, 3, 4, 5, 6, 7, 8])"
      ]
     },
     "execution_count": 43,
     "metadata": {},
     "output_type": "execute_result"
    }
   ],
   "source": [
    "np.array(np.arange(9)) #Q1.Ex1"
   ]
  },
  {
   "cell_type": "code",
   "execution_count": 47,
   "id": "3d25a53b",
   "metadata": {},
   "outputs": [
    {
     "data": {
      "text/plain": [
       "(3, 3)"
      ]
     },
     "execution_count": 47,
     "metadata": {},
     "output_type": "execute_result"
    }
   ],
   "source": [
    "x = np.zeros([3,3]) #Q2.Ex1\n",
    "np.shape(x)"
   ]
  },
  {
   "cell_type": "code",
   "execution_count": 48,
   "id": "e6765dd6",
   "metadata": {},
   "outputs": [
    {
     "data": {
      "text/plain": [
       "(2, 3, 4)"
      ]
     },
     "execution_count": 48,
     "metadata": {},
     "output_type": "execute_result"
    }
   ],
   "source": [
    "x = np.ones([2,3,4]) #Q3.Ex1\n",
    "np.shape(x)"
   ]
  },
  {
   "cell_type": "code",
   "execution_count": 67,
   "id": "b73355b8",
   "metadata": {},
   "outputs": [],
   "source": [
    "from random import randint #Q4.Ex1\n",
    "l = [randint(0, 101) for i in range(100)]"
   ]
  },
  {
   "cell_type": "code",
   "execution_count": 68,
   "id": "baa9a66e",
   "metadata": {},
   "outputs": [
    {
     "data": {
      "text/plain": [
       "[31,\n",
       " 66,\n",
       " 94,\n",
       " 2,\n",
       " 84,\n",
       " 42,\n",
       " 26,\n",
       " 53,\n",
       " 40,\n",
       " 2,\n",
       " 54,\n",
       " 9,\n",
       " 70,\n",
       " 77,\n",
       " 61,\n",
       " 28,\n",
       " 28,\n",
       " 30,\n",
       " 83,\n",
       " 33,\n",
       " 33,\n",
       " 35,\n",
       " 97,\n",
       " 18,\n",
       " 36,\n",
       " 57,\n",
       " 96,\n",
       " 41,\n",
       " 3,\n",
       " 59,\n",
       " 69,\n",
       " 86,\n",
       " 85,\n",
       " 10,\n",
       " 64,\n",
       " 20,\n",
       " 18,\n",
       " 75,\n",
       " 71,\n",
       " 37,\n",
       " 22,\n",
       " 24,\n",
       " 57,\n",
       " 92,\n",
       " 73,\n",
       " 8,\n",
       " 53,\n",
       " 67,\n",
       " 22,\n",
       " 11,\n",
       " 88,\n",
       " 24,\n",
       " 77,\n",
       " 31,\n",
       " 74,\n",
       " 101,\n",
       " 66,\n",
       " 97,\n",
       " 55,\n",
       " 61,\n",
       " 36,\n",
       " 23,\n",
       " 74,\n",
       " 98,\n",
       " 55,\n",
       " 96,\n",
       " 11,\n",
       " 42,\n",
       " 49,\n",
       " 31,\n",
       " 86,\n",
       " 70,\n",
       " 94,\n",
       " 31,\n",
       " 24,\n",
       " 42,\n",
       " 21,\n",
       " 96,\n",
       " 28,\n",
       " 64,\n",
       " 89,\n",
       " 27,\n",
       " 22,\n",
       " 13,\n",
       " 73,\n",
       " 31,\n",
       " 29,\n",
       " 42,\n",
       " 96,\n",
       " 49,\n",
       " 78,\n",
       " 14,\n",
       " 33,\n",
       " 43,\n",
       " 81,\n",
       " 75,\n",
       " 63,\n",
       " 38,\n",
       " 2,\n",
       " 20]"
      ]
     },
     "execution_count": 68,
     "metadata": {},
     "output_type": "execute_result"
    }
   ],
   "source": [
    "l"
   ]
  },
  {
   "cell_type": "code",
   "execution_count": 69,
   "id": "dd0acc84",
   "metadata": {},
   "outputs": [],
   "source": [
    "l = np.array(l)"
   ]
  },
  {
   "cell_type": "code",
   "execution_count": 70,
   "id": "b3f2f74d",
   "metadata": {},
   "outputs": [
    {
     "data": {
      "text/plain": [
       "(100,)"
      ]
     },
     "execution_count": 70,
     "metadata": {},
     "output_type": "execute_result"
    }
   ],
   "source": [
    "np.shape(l)"
   ]
  },
  {
   "cell_type": "code",
   "execution_count": 73,
   "id": "8d6fff66",
   "metadata": {},
   "outputs": [],
   "source": [
    "from random import * #Q5.Ex1\n",
    "list_of_float = [randint(0,10)/10 for i in range(10)]"
   ]
  },
  {
   "cell_type": "code",
   "execution_count": 74,
   "id": "4aeaf617",
   "metadata": {},
   "outputs": [
    {
     "data": {
      "text/plain": [
       "array([1. , 0.6, 1. , 0.9, 0.3, 0.3, 0.1, 0.7, 0.2, 0.6])"
      ]
     },
     "execution_count": 74,
     "metadata": {},
     "output_type": "execute_result"
    }
   ],
   "source": [
    "list_of_float = np.array(list_of_float)"
   ]
  },
  {
   "cell_type": "code",
   "execution_count": 76,
   "id": "29fc66b4",
   "metadata": {},
   "outputs": [
    {
     "data": {
      "text/plain": [
       "(10,)"
      ]
     },
     "execution_count": 76,
     "metadata": {},
     "output_type": "execute_result"
    }
   ],
   "source": [
    "np.shape(list_of_float)"
   ]
  },
  {
   "cell_type": "code",
   "execution_count": 78,
   "id": "8c51bed8",
   "metadata": {},
   "outputs": [
    {
     "data": {
      "text/plain": [
       "[0.6, 1.0]"
      ]
     },
     "execution_count": 78,
     "metadata": {},
     "output_type": "execute_result"
    }
   ],
   "source": [
    "list_of_float[1:3] #Indexing range of values"
   ]
  },
  {
   "cell_type": "code",
   "execution_count": 81,
   "id": "ef06b329",
   "metadata": {},
   "outputs": [],
   "source": [
    "x = np.array([1,2,3,4])\n",
    "x[2:4] = 100"
   ]
  },
  {
   "cell_type": "code",
   "execution_count": 82,
   "id": "f17051b0",
   "metadata": {},
   "outputs": [
    {
     "data": {
      "text/plain": [
       "array([  1,   2, 100, 100])"
      ]
     },
     "execution_count": 82,
     "metadata": {},
     "output_type": "execute_result"
    }
   ],
   "source": [
    "x"
   ]
  },
  {
   "cell_type": "code",
   "execution_count": 103,
   "id": "d0ad9e48",
   "metadata": {},
   "outputs": [
    {
     "data": {
      "text/plain": [
       "array([26, 24, 77])"
      ]
     },
     "execution_count": 103,
     "metadata": {},
     "output_type": "execute_result"
    }
   ],
   "source": [
    "age_arrangment = np.array([[1,26],\n",
    "                           [2,24],\n",
    "                          [3,77]])\n",
    "age_arrangment[:,1]"
   ]
  },
  {
   "cell_type": "code",
   "execution_count": 109,
   "id": "7fd69b34",
   "metadata": {},
   "outputs": [
    {
     "data": {
      "text/plain": [
       "array([[2, 2, 1, 2, 2, 2, 1],\n",
       "       [2, 1, 2, 2, 1, 2, 2]])"
      ]
     },
     "execution_count": 109,
     "metadata": {},
     "output_type": "execute_result"
    }
   ],
   "source": [
    "music_scales = [[2,2,1,2,2,2,1],[2,1,2,2,1,2,2]]\n",
    "music_scales = np.array(music_scales)"
   ]
  },
  {
   "cell_type": "code",
   "execution_count": 111,
   "id": "1031edc8",
   "metadata": {},
   "outputs": [],
   "source": [
    "array = [1,2,3,4,5] #Q6.Ex1\n",
    "array = np.array(array)"
   ]
  },
  {
   "cell_type": "code",
   "execution_count": 112,
   "id": "b9bd163d",
   "metadata": {},
   "outputs": [],
   "source": [
    "array = array / 10"
   ]
  },
  {
   "cell_type": "code",
   "execution_count": 114,
   "id": "b8374642",
   "metadata": {},
   "outputs": [
    {
     "data": {
      "text/plain": [
       "array([0.2, 0.4, 0.6, 0.8, 1. ])"
      ]
     },
     "execution_count": 114,
     "metadata": {},
     "output_type": "execute_result"
    }
   ],
   "source": [
    "array = array * 2\n",
    "array\n"
   ]
  },
  {
   "cell_type": "code",
   "execution_count": 116,
   "id": "74f9191a",
   "metadata": {},
   "outputs": [],
   "source": [
    "x = np.array([[1,2],[3,4]]) #Q1.Ex2"
   ]
  },
  {
   "cell_type": "code",
   "execution_count": 117,
   "id": "de5d7c12",
   "metadata": {},
   "outputs": [
    {
     "data": {
      "text/plain": [
       "array([[2, 4],\n",
       "       [6, 8]])"
      ]
     },
     "execution_count": 117,
     "metadata": {},
     "output_type": "execute_result"
    }
   ],
   "source": [
    "x *2"
   ]
  },
  {
   "cell_type": "code",
   "execution_count": 121,
   "id": "1178b07d",
   "metadata": {},
   "outputs": [
    {
     "data": {
      "text/plain": [
       "array([[ 6,  7],\n",
       "       [ 8,  9],\n",
       "       [10, 11]])"
      ]
     },
     "execution_count": 121,
     "metadata": {},
     "output_type": "execute_result"
    }
   ],
   "source": [
    "x = np.array([[1,2],[3,4],[5,6]]) #Q2.Ex2\n",
    "x +5"
   ]
  },
  {
   "cell_type": "code",
   "execution_count": 122,
   "id": "b53070df",
   "metadata": {},
   "outputs": [
    {
     "data": {
      "text/plain": [
       "array([[-9, -8],\n",
       "       [-7, -6],\n",
       "       [-5, -4],\n",
       "       [-3, -2]])"
      ]
     },
     "execution_count": 122,
     "metadata": {},
     "output_type": "execute_result"
    }
   ],
   "source": [
    "x = np.array([[1,2],[3,4],[5,6],[7,8]]) #Q3.Ex2\n",
    "x - 10"
   ]
  },
  {
   "cell_type": "code",
   "execution_count": 124,
   "id": "76439c17",
   "metadata": {},
   "outputs": [
    {
     "data": {
      "text/plain": [
       "array([[0.5, 1. ],\n",
       "       [1.5, 2. ],\n",
       "       [2.5, 3. ],\n",
       "       [3.5, 4. ],\n",
       "       [4.5, 5. ]])"
      ]
     },
     "execution_count": 124,
     "metadata": {},
     "output_type": "execute_result"
    }
   ],
   "source": [
    "x = np.array([[1,2],[3,4],[5,6],[7,8],[9,10]]) #Q4.Ex2\n",
    "x / 2"
   ]
  },
  {
   "cell_type": "code",
   "execution_count": 138,
   "id": "b9e45eee",
   "metadata": {},
   "outputs": [],
   "source": [
    "import math #Q5.Ex2\n",
    "x = np.array([[1,2],[3,4],[5,6],[7,8],[9,10],[11,12]])\n",
    "y = []\n",
    "j = 0\n",
    "for i in x:\n",
    "    y.append(math.sqrt(i[j]))\n",
    "    j += 1\n",
    "    if j > 1:\n",
    "        j = 0\n",
    "y = np.array(y)"
   ]
  },
  {
   "cell_type": "code",
   "execution_count": 139,
   "id": "2a0f4cfd",
   "metadata": {},
   "outputs": [
    {
     "data": {
      "text/plain": [
       "array([1.        , 2.        , 2.23606798, 2.82842712, 3.        ,\n",
       "       3.46410162])"
      ]
     },
     "execution_count": 139,
     "metadata": {},
     "output_type": "execute_result"
    }
   ],
   "source": [
    "y"
   ]
  },
  {
   "cell_type": "code",
   "execution_count": 141,
   "id": "fac82400",
   "metadata": {},
   "outputs": [],
   "source": [
    "#Q6.Ex2\n",
    "m1 = np.array([[1,2,3],[1,4,9]])\n",
    "m2 = np.array([[2,4,6],[4,16,36],[1,2,3]])\n",
    "product = np.matmul(m1,m2)"
   ]
  },
  {
   "cell_type": "code",
   "execution_count": 142,
   "id": "bc278e28",
   "metadata": {},
   "outputs": [
    {
     "data": {
      "text/plain": [
       "array([[ 13,  42,  87],\n",
       "       [ 27,  86, 177]])"
      ]
     },
     "execution_count": 142,
     "metadata": {},
     "output_type": "execute_result"
    }
   ],
   "source": [
    "product"
   ]
  },
  {
   "cell_type": "code",
   "execution_count": 148,
   "id": "5d7c82ec",
   "metadata": {},
   "outputs": [
    {
     "data": {
      "text/plain": [
       "array([ 0,  1,  2,  3,  4,  5,  6,  7,  8,  9, 10])"
      ]
     },
     "execution_count": 148,
     "metadata": {},
     "output_type": "execute_result"
    }
   ],
   "source": [
    "arr = np.arange(0,11)\n",
    "arr"
   ]
  },
  {
   "cell_type": "code",
   "execution_count": 149,
   "id": "73ba1063",
   "metadata": {},
   "outputs": [
    {
     "data": {
      "text/plain": [
       "7"
      ]
     },
     "execution_count": 149,
     "metadata": {},
     "output_type": "execute_result"
    }
   ],
   "source": [
    "arr[-4]"
   ]
  },
  {
   "cell_type": "raw",
   "id": "8be5697b",
   "metadata": {},
   "source": []
  },
  {
   "cell_type": "code",
   "execution_count": 151,
   "id": "8386ee58",
   "metadata": {},
   "outputs": [
    {
     "data": {
      "text/plain": [
       "2"
      ]
     },
     "execution_count": 151,
     "metadata": {},
     "output_type": "execute_result"
    }
   ],
   "source": [
    "arr[2]"
   ]
  },
  {
   "cell_type": "code",
   "execution_count": 154,
   "id": "7186ed44",
   "metadata": {},
   "outputs": [
    {
     "data": {
      "text/plain": [
       "3"
      ]
     },
     "execution_count": 154,
     "metadata": {},
     "output_type": "execute_result"
    }
   ],
   "source": [
    "x = np.array([[1,2],[3,4],[5,6]])\n",
    "x[1][0]"
   ]
  },
  {
   "cell_type": "code",
   "execution_count": 185,
   "id": "a6c2961c",
   "metadata": {},
   "outputs": [
    {
     "data": {
      "text/plain": [
       "(4, 4)"
      ]
     },
     "execution_count": 185,
     "metadata": {},
     "output_type": "execute_result"
    }
   ],
   "source": [
    "#Create a 2D NumPy array with shape (4, 4) and fill it with random numbers. Extract the subarray consisting of the first 2 rows and the last 2 columns.\n",
    "x = np.random.rand(4,4) #Ahmed Alabri is senserly contripute in this code\n",
    "np.shape(x)"
   ]
  },
  {
   "cell_type": "code",
   "execution_count": 186,
   "id": "d526428c",
   "metadata": {},
   "outputs": [],
   "source": [
    "y = x[0:2,2:]"
   ]
  },
  {
   "cell_type": "code",
   "execution_count": 188,
   "id": "f0f9a9a9",
   "metadata": {},
   "outputs": [
    {
     "data": {
      "text/plain": [
       "array([[0.11628283, 0.42264634],\n",
       "       [0.09952633, 0.77735519]])"
      ]
     },
     "execution_count": 188,
     "metadata": {},
     "output_type": "execute_result"
    }
   ],
   "source": [
    "y"
   ]
  },
  {
   "cell_type": "code",
   "execution_count": 189,
   "id": "24cbd01b",
   "metadata": {},
   "outputs": [
    {
     "data": {
      "text/plain": [
       "array([0, 1, 2])"
      ]
     },
     "execution_count": 189,
     "metadata": {},
     "output_type": "execute_result"
    }
   ],
   "source": [
    "x = np.arange(0,9)\n",
    "copy = x[:3]\n",
    "copy"
   ]
  },
  {
   "cell_type": "code",
   "execution_count": 194,
   "id": "7c911d2a",
   "metadata": {},
   "outputs": [
    {
     "data": {
      "text/plain": [
       "array([[0.08038562, 0.19467568, 0.2202904 ],\n",
       "       [0.87217427, 0.75014183, 0.00383201],\n",
       "       [0.51115996, 0.49662765, 0.11518191]])"
      ]
     },
     "execution_count": 194,
     "metadata": {},
     "output_type": "execute_result"
    }
   ],
   "source": [
    "x = np.random.rand(3,3)\n",
    "x"
   ]
  },
  {
   "cell_type": "code",
   "execution_count": 225,
   "id": "f6abb2ab",
   "metadata": {},
   "outputs": [
    {
     "data": {
      "text/plain": [
       "array([[0.08038562, 0.19467568],\n",
       "       [0.87217427, 0.75014183]])"
      ]
     },
     "execution_count": 225,
     "metadata": {},
     "output_type": "execute_result"
    }
   ],
   "source": [
    "copy = x[:2,:2] #\n",
    "copy"
   ]
  },
  {
   "cell_type": "code",
   "execution_count": 11,
   "id": "f6b56709",
   "metadata": {},
   "outputs": [],
   "source": [
    "#Create a 1D NumPy array with the integers \n",
    "import numpy as np\n",
    "#from 0 to 9. Reshape the array into a 2D array with shape (3, 3).\n",
    "x = np.array([1,2,3,4,5,6,7,8,9])\n",
    "l1 = list(x[:3])\n",
    "l2 = list(x[3:6])\n",
    "l3 = list(x[6:])\n",
    "x = np.array([l1,l2,l3])"
   ]
  },
  {
   "cell_type": "code",
   "execution_count": 12,
   "id": "480dc35e",
   "metadata": {},
   "outputs": [
    {
     "data": {
      "text/plain": [
       "array([[1, 2, 3],\n",
       "       [4, 5, 6],\n",
       "       [7, 8, 9]])"
      ]
     },
     "execution_count": 12,
     "metadata": {},
     "output_type": "execute_result"
    }
   ],
   "source": [
    "x"
   ]
  },
  {
   "cell_type": "code",
   "execution_count": 13,
   "id": "8b792d07",
   "metadata": {},
   "outputs": [
    {
     "data": {
      "text/plain": [
       "(3, 3)"
      ]
     },
     "execution_count": 13,
     "metadata": {},
     "output_type": "execute_result"
    }
   ],
   "source": [
    "np.shape(x)"
   ]
  },
  {
   "cell_type": "code",
   "execution_count": 14,
   "id": "c6c1e052",
   "metadata": {},
   "outputs": [
    {
     "data": {
      "text/plain": [
       "array([0.23443147, 0.45647412, 0.01839226, 0.61241343, 0.44102745,\n",
       "       0.9698485 , 0.61127764, 0.47337446, 0.51644658, 0.95957968,\n",
       "       0.35518909, 0.77308402, 0.63876489, 0.01269336, 0.30051425,\n",
       "       0.65746945])"
      ]
     },
     "execution_count": 14,
     "metadata": {},
     "output_type": "execute_result"
    }
   ],
   "source": [
    "#Create a 2D NumPy array with shape (4, 4) and fill it with random numbers. Reshape the array into a 1D array.\n",
    "x = np.random.rand(4,4)\n",
    "np.reshape(x,16) #Thanks to Ahmed Alabri"
   ]
  },
  {
   "cell_type": "code",
   "execution_count": 22,
   "id": "cc30b3cd",
   "metadata": {},
   "outputs": [],
   "source": [
    "\"\"\"\n",
    "Create two 1D NumPy arrays with the integers from 0 to 4. Concatenate the two arrays into a single 1D array.\n",
    "\"\"\"\n",
    "a = np.array([0,1,2,3,4])\n",
    "b = np.array([0,1,2,3,4])\n",
    "a = [i for i in a]\n",
    "b = [i for i in b]\n",
    "c = a + b"
   ]
  },
  {
   "cell_type": "code",
   "execution_count": 23,
   "id": "d5156cba",
   "metadata": {},
   "outputs": [
    {
     "data": {
      "text/plain": [
       "array([0, 1, 2, 3, 4, 0, 1, 2, 3, 4])"
      ]
     },
     "execution_count": 23,
     "metadata": {},
     "output_type": "execute_result"
    }
   ],
   "source": [
    "c = np.array(c)\n",
    "c"
   ]
  },
  {
   "cell_type": "code",
   "execution_count": 24,
   "id": "e9cd7940",
   "metadata": {},
   "outputs": [],
   "source": [
    "\"\"\"\n",
    "Create two 2D NumPy arrays with shapes (2, 2) and (2, 3). Concatenate the two arrays horizontally.\n",
    "\"\"\"\n",
    "x = np.random.rand(2,2)\n",
    "y = np.random.rand(2,3)"
   ]
  },
  {
   "cell_type": "code",
   "execution_count": 53,
   "id": "451f6d86",
   "metadata": {},
   "outputs": [],
   "source": [
    "import numpy as np\n",
    "from numpy.random import randn\n",
    "mean = 1\n",
    "sd = 1\n",
    "x = mean+sd*randn(5000,5000)"
   ]
  },
  {
   "cell_type": "code",
   "execution_count": 54,
   "id": "e04bf8ca",
   "metadata": {},
   "outputs": [
    {
     "data": {
      "text/plain": [
       "array([[ 6.88402542e-02,  1.18470181e+00,  2.70592414e+00, ...,\n",
       "        -1.12897872e+00, -6.86681920e-01,  2.33173555e+00],\n",
       "       [ 3.10091497e+00,  7.03396033e-01,  6.00239261e-01, ...,\n",
       "        -1.11711005e-01,  4.16485766e-01,  3.35868957e-01],\n",
       "       [ 4.53344946e-01,  1.14031955e+00,  7.16267404e-01, ...,\n",
       "         4.46843134e-01, -2.67416502e-03,  1.86242855e-01],\n",
       "       ...,\n",
       "       [ 2.84862089e+00, -1.17175068e-01,  2.27267689e+00, ...,\n",
       "        -2.21252666e-01,  1.99774099e+00,  1.45549940e+00],\n",
       "       [ 2.84298140e-01,  1.30598968e+00,  4.29355385e-01, ...,\n",
       "        -3.86370293e-01,  9.41293259e-01,  2.78356092e+00],\n",
       "       [ 1.64888881e-01,  2.80748948e+00,  2.29573757e-01, ...,\n",
       "         6.19570051e-01, -5.42329318e-02,  8.92577283e-01]])"
      ]
     },
     "execution_count": 54,
     "metadata": {},
     "output_type": "execute_result"
    }
   ],
   "source": [
    "x"
   ]
  },
  {
   "cell_type": "code",
   "execution_count": 55,
   "id": "1b9573cf",
   "metadata": {},
   "outputs": [
    {
     "data": {
      "text/plain": [
       "<function matplotlib.pyplot.show(close=None, block=None)>"
      ]
     },
     "execution_count": 55,
     "metadata": {},
     "output_type": "execute_result"
    },
    {
     "data": {
      "image/png": "[encoded data removed]",
      "text/plain": [
       "<Figure size 640x480 with 1 Axes>"
      ]
     },
     "metadata": {},
     "output_type": "display_data"
    }
   ],
   "source": [
    "import matplotlib.pyplot as plt\n",
    "plt.hist(x)\n",
    "\n",
    "plt.show"
   ]
  },
  {
   "cell_type": "code",
   "execution_count": 56,
   "id": "bec0c90a",
   "metadata": {},
   "outputs": [],
   "source": [
    "a = np.array([1,2,3,4,5])"
   ]
  },
  {
   "cell_type": "code",
   "execution_count": 57,
   "id": "d3e9756e",
   "metadata": {},
   "outputs": [],
   "source": [
    "a = -np.sort(-a)"
   ]
  },
  {
   "cell_type": "code",
   "execution_count": 58,
   "id": "03d49381",
   "metadata": {},
   "outputs": [
    {
     "data": {
      "text/plain": [
       "array([5, 4, 3, 2, 1])"
      ]
     },
     "execution_count": 58,
     "metadata": {},
     "output_type": "execute_result"
    }
   ],
   "source": [
    "a"
   ]
  },
  {
   "cell_type": "code",
   "execution_count": null,
   "id": "8817cb83",
   "metadata": {},
   "outputs": [],
   "source": []
  },
  {
   "cell_type": "code",
   "execution_count": null,
   "id": "1f0069de",
   "metadata": {},
   "outputs": [],
   "source": []
  },
  {
   "cell_type": "code",
   "execution_count": 62,
   "id": "6fee33af",
   "metadata": {},
   "outputs": [
    {
     "data": {
      "text/plain": [
       "array(['BH', 'KW', 'OMN', 'QTR', 'SA', 'UAE'], dtype='<U3')"
      ]
     },
     "execution_count": 62,
     "metadata": {},
     "output_type": "execute_result"
    }
   ],
   "source": [
    "countries = np.array([['OMN'],['KW'],['SA'],['QTR'],['KW'],['BH'],['KW'],['QTR'],['SA'],['UAE'],['SA'],['UAE']])\n",
    "np.unique(countries)"
   ]
  },
  {
   "cell_type": "code",
   "execution_count": null,
   "id": "efa24fb2",
   "metadata": {},
   "outputs": [],
   "source": []
  }
 ],
 "metadata": {
  "kernelspec": {
   "display_name": "Python 3 (ipykernel)",
   "language": "python",
   "name": "python3"
  },
  "language_info": {
   "codemirror_mode": {
    "name": "ipython",
    "version": 3
   },
   "file_extension": ".py",
   "mimetype": "text/x-python",
   "name": "python",
   "nbconvert_exporter": "python",
   "pygments_lexer": "ipython3",
   "version": "3.10.9"
  }
 },
 "nbformat": 4,
 "nbformat_minor": 5
}
